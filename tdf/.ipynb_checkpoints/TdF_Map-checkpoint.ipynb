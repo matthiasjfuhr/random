{
 "cells": [
  {
   "cell_type": "markdown",
   "id": "5585ae27",
   "metadata": {},
   "source": [
    "# Library"
   ]
  },
  {
   "cell_type": "code",
   "execution_count": 59,
   "id": "0cbbcdbe",
   "metadata": {},
   "outputs": [],
   "source": [
    "from ipyleaflet import Map, Polyline\n",
    "from ipyleaflet import Marker, MarkerCluster\n",
    "import xml.etree.ElementTree as ET"
   ]
  },
  {
   "cell_type": "markdown",
   "id": "e4a7b4e6",
   "metadata": {},
   "source": [
    "# Make Polyline"
   ]
  },
  {
   "cell_type": "markdown",
   "id": "cb82add5",
   "metadata": {},
   "source": [
    "## Read GPS"
   ]
  },
  {
   "cell_type": "code",
   "execution_count": 63,
   "id": "db544b7d",
   "metadata": {},
   "outputs": [],
   "source": [
    "locations = []\n",
    "markers = []\n",
    "\n",
    "files = [\n",
    "    'TdF_Etappe_1_Glaubenberg_Glaubenbielen.gpx',\n",
    "    'TdF_Etappe_2_Beatenberg_chi_Gestelen.gpx',\n",
    "    'TdF_Etappe_3_Col_du_Pillon_Col_de_la_Croix.gpx',\n",
    "    'TdF_Etappe_4_Simplon_Centovalli_Monte_Ceneri.gpx',\n",
    "    'TdF_Etappe_5_Lago_di_Como_Passo_dello_Spluga_S_drampe_San_Bernardino.gpx',\n",
    "    'TdF_Etappe_6_Lukmanier_Oberalp.gpx',\n",
    "    'TdF_Etappe_7_Sustenpass_Grosse_Scheidegg_.gpx',\n",
    "    'TdF_Etappe_8_Winterlicken_Br_nig_cherli.gpx'\n",
    "]\n",
    "\n",
    "for f in files:\n",
    "    # Get track\n",
    "    root = ET.parse(f).getroot()\n",
    "    trk = root[1][2]\n",
    "    \n",
    "    l = []\n",
    "    # Get trackpoints\n",
    "    for trkpt in trk:\n",
    "        lat = trkpt.get('lat')\n",
    "        lon = trkpt.get('lon')\n",
    "        l.append([lat, lon])\n",
    "    \n",
    "    # Add trackpoints to locations\n",
    "    locations.append(l)\n",
    "    \n",
    "    # Add marker to markers\n",
    "    markers.append( Marker(location=(l[0][0], l[0][1])) )"
   ]
  },
  {
   "cell_type": "markdown",
   "id": "a4cdff2e",
   "metadata": {},
   "source": [
    "## Make Line"
   ]
  },
  {
   "cell_type": "code",
   "execution_count": 64,
   "id": "f0aa824e",
   "metadata": {},
   "outputs": [],
   "source": [
    "lines = Polyline(\n",
    "    locations=locations,\n",
    "    color=\"green\" ,\n",
    "    fill=False\n",
    ")\n",
    "\n",
    "marker_cluster = MarkerCluster(\n",
    "    markers=tuple(markers)\n",
    ")"
   ]
  },
  {
   "cell_type": "markdown",
   "id": "2bf9896c",
   "metadata": {},
   "source": [
    "# Draw"
   ]
  },
  {
   "cell_type": "code",
   "execution_count": 78,
   "id": "0b110057",
   "metadata": {},
   "outputs": [
    {
     "data": {
      "text/html": [
       "<style>\n",
       ".output_wrapper, .output {\n",
       "    height:auto !important;\n",
       "    max-height:10000px;  /* your desired max-height here */\n",
       "}\n",
       ".output_scroll {\n",
       "    box-shadow:none !important;\n",
       "    webkit-box-shadow:none !important;\n",
       "}\n",
       "</style>\n"
      ],
      "text/plain": [
       "<IPython.core.display.HTML object>"
      ]
     },
     "metadata": {},
     "output_type": "display_data"
    }
   ],
   "source": [
    "%%html\n",
    "<style>\n",
    ".output_wrapper, .output {\n",
    "    height:auto !important;\n",
    "    max-height:10000px;  /* your desired max-height here */\n",
    "}\n",
    ".output_scroll {\n",
    "    box-shadow:none !important;\n",
    "    webkit-box-shadow:none !important;\n",
    "}\n",
    "</style>"
   ]
  },
  {
   "cell_type": "code",
   "execution_count": 79,
   "id": "5ee1553f",
   "metadata": {
    "scrolled": false
   },
   "outputs": [
    {
     "data": {
      "application/vnd.jupyter.widget-view+json": {
       "model_id": "b64c0ce052b646d28eb4c70938af965e",
       "version_major": 2,
       "version_minor": 0
      },
      "text/plain": [
       "Map(center=[42.5, -41], controls=(ZoomControl(options=['position', 'zoom_in_text', 'zoom_in_title', 'zoom_out_…"
      ]
     },
     "metadata": {},
     "output_type": "display_data"
    }
   ],
   "source": [
    "m = Map(center = (42.5, -41), zoom =2)\n",
    "m.add_layer(lines)\n",
    "m.add_layer(marker_cluster)\n",
    "m"
   ]
  },
  {
   "cell_type": "code",
   "execution_count": 80,
   "id": "150551a0",
   "metadata": {},
   "outputs": [],
   "source": [
    "m.save('tdf.html', title='Tour de Friends')"
   ]
  },
  {
   "cell_type": "markdown",
   "id": "cb35c92c",
   "metadata": {},
   "source": [
    "# Test"
   ]
  },
  {
   "cell_type": "code",
   "execution_count": null,
   "id": "1972d2c7",
   "metadata": {},
   "outputs": [],
   "source": [
    "lines = Polyline(\n",
    "    locations=[\n",
    "        [[45.51, -122.68],\n",
    "         [37.77, -122.43],\n",
    "         [34.04, -118.2]],\n",
    "        [[40.78, -73.91],\n",
    "         [41.83, -87.62],\n",
    "         [32.76, -96.72]],\n",
    "        [[47.0486340, 8.3140190],\n",
    "         [46.8497180, 7.8945450]]\n",
    "    ],\n",
    "    color=\"green\" ,\n",
    "    fill=False\n",
    ")"
   ]
  },
  {
   "cell_type": "code",
   "execution_count": null,
   "id": "e0d07ca3",
   "metadata": {},
   "outputs": [],
   "source": [
    "root.tag"
   ]
  },
  {
   "cell_type": "code",
   "execution_count": null,
   "id": "102e0cee",
   "metadata": {},
   "outputs": [],
   "source": [
    "root.attrib"
   ]
  },
  {
   "cell_type": "code",
   "execution_count": null,
   "id": "cff47532",
   "metadata": {},
   "outputs": [],
   "source": [
    "for child in root:\n",
    "    print(child.tag, child.attrib)"
   ]
  },
  {
   "cell_type": "code",
   "execution_count": null,
   "id": "115747ff",
   "metadata": {},
   "outputs": [],
   "source": [
    "trk = root[1][2]"
   ]
  },
  {
   "cell_type": "code",
   "execution_count": null,
   "id": "b04c9bf8",
   "metadata": {},
   "outputs": [],
   "source": [
    "l = []\n",
    "for trkpt in trk:\n",
    "    lat = trkpt.get('lat')\n",
    "    lon = trkpt.get('lon')\n",
    "    l.append([lat, lon])\n",
    "    #print(lat)\n",
    "    #print(trkpt.tag, trkpt.attrib)"
   ]
  },
  {
   "cell_type": "code",
   "execution_count": null,
   "id": "2ee324c1",
   "metadata": {},
   "outputs": [],
   "source": [
    "m = Map(center=(50, 0), zoom=5)\n",
    "\n",
    "marker1 = Marker(location=(48, -2))\n",
    "marker2 = Marker(location=(50, 0))\n",
    "marker3 = Marker(location=(52, 2))\n",
    "\n",
    "marker_cluster = MarkerCluster(\n",
    "    markers=(marker1, marker2, marker3)\n",
    ")\n",
    "\n",
    "m.add_layer(marker_cluster);\n",
    "\n",
    "m"
   ]
  },
  {
   "cell_type": "code",
   "execution_count": 56,
   "id": "4bb3510b",
   "metadata": {},
   "outputs": [
    {
     "data": {
      "text/plain": [
       "['46.8500620', '7.8945760']"
      ]
     },
     "execution_count": 56,
     "metadata": {},
     "output_type": "execute_result"
    }
   ],
   "source": [
    "l[0]"
   ]
  },
  {
   "cell_type": "code",
   "execution_count": 57,
   "id": "bcd75847",
   "metadata": {},
   "outputs": [
    {
     "data": {
      "text/plain": [
       "'46.8500620'"
      ]
     },
     "execution_count": 57,
     "metadata": {},
     "output_type": "execute_result"
    }
   ],
   "source": [
    "l[0][0]"
   ]
  },
  {
   "cell_type": "code",
   "execution_count": 58,
   "id": "87275d07",
   "metadata": {},
   "outputs": [
    {
     "ename": "NameError",
     "evalue": "name 'Marker' is not defined",
     "output_type": "error",
     "traceback": [
      "\u001b[0;31m---------------------------------------------------------------------------\u001b[0m",
      "\u001b[0;31mNameError\u001b[0m                                 Traceback (most recent call last)",
      "\u001b[0;32m/var/folders/yr/2pmhrntj75q_g5nxzr884m8m0000gn/T/ipykernel_57496/2679188988.py\u001b[0m in \u001b[0;36m<module>\u001b[0;34m\u001b[0m\n\u001b[0;32m----> 1\u001b[0;31m \u001b[0mmarker1\u001b[0m \u001b[0;34m=\u001b[0m \u001b[0mMarker\u001b[0m\u001b[0;34m(\u001b[0m\u001b[0mlocation\u001b[0m\u001b[0;34m=\u001b[0m\u001b[0;34m(\u001b[0m\u001b[0ml\u001b[0m\u001b[0;34m[\u001b[0m\u001b[0;36m0\u001b[0m\u001b[0;34m]\u001b[0m\u001b[0;34m[\u001b[0m\u001b[0;36m0\u001b[0m\u001b[0;34m]\u001b[0m\u001b[0;34m,\u001b[0m \u001b[0ml\u001b[0m\u001b[0;34m[\u001b[0m\u001b[0;36m0\u001b[0m\u001b[0;34m]\u001b[0m\u001b[0;34m[\u001b[0m\u001b[0;36m1\u001b[0m\u001b[0;34m]\u001b[0m\u001b[0;34m)\u001b[0m\u001b[0;34m)\u001b[0m\u001b[0;34m\u001b[0m\u001b[0;34m\u001b[0m\u001b[0m\n\u001b[0m",
      "\u001b[0;31mNameError\u001b[0m: name 'Marker' is not defined"
     ]
    }
   ],
   "source": [
    "marker1 = Marker(location=(l[0][0], l[0][1]))"
   ]
  },
  {
   "cell_type": "code",
   "execution_count": null,
   "id": "218494ef",
   "metadata": {},
   "outputs": [],
   "source": []
  }
 ],
 "metadata": {
  "kernelspec": {
   "display_name": "Python 3 (ipykernel)",
   "language": "python",
   "name": "python3"
  },
  "language_info": {
   "codemirror_mode": {
    "name": "ipython",
    "version": 3
   },
   "file_extension": ".py",
   "mimetype": "text/x-python",
   "name": "python",
   "nbconvert_exporter": "python",
   "pygments_lexer": "ipython3",
   "version": "3.10.1"
  }
 },
 "nbformat": 4,
 "nbformat_minor": 5
}
